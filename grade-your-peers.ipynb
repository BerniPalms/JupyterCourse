{
  "metadata": {
    "kernelspec": {
      "name": "python",
      "display_name": "Python (Pyodide)",
      "language": "python"
    },
    "language_info": {
      "codemirror_mode": {
        "name": "python",
        "version": 3
      },
      "file_extension": ".py",
      "mimetype": "text/x-python",
      "name": "python",
      "nbconvert_exporter": "python",
      "pygments_lexer": "ipython3",
      "version": "3.8"
    }
  },
  "nbformat_minor": 4,
  "nbformat": 4,
  "cells": [
    {
      "cell_type": "markdown",
      "source": "Title: Jupyter",
      "metadata": {}
    },
    {
      "cell_type": "markdown",
      "source": "Introduction",
      "metadata": {}
    },
    {
      "cell_type": "code",
      "source": "\"Jupyter Notebook is an open-source web application that allows users to create and share documents containing live code, equations, visualizations, and narrative text. It has become a popular tool among data scientists, researchers, and educators due to its ability to facilitate interactive computing and enhance the learning experience. Jupyter supports various programming languages, most notably Python, which is widely used in data analysis, machine learning, and scientific computing.\"\n",
      "metadata": {
        "trusted": true
      },
      "outputs": [
        {
          "execution_count": 16,
          "output_type": "execute_result",
          "data": {
            "text/plain": "'Jupyter Notebook is an open-source web application that allows users to create and share documents containing live code, equations, visualizations, and narrative text. It has become a popular tool among data scientists, researchers, and educators due to its ability to facilitate interactive computing and enhance the learning experience. Jupyter supports various programming languages, most notably Python, which is widely used in data analysis, machine learning, and scientific computing.'"
          },
          "metadata": {}
        }
      ],
      "execution_count": 16
    },
    {
      "cell_type": "markdown",
      "source": "Data Science languages",
      "metadata": {}
    },
    {
      "cell_type": "code",
      "source": "\"Data science relies on several programming languages, each offering unique capabilities:Python: Known for its simplicity and versatility, Python has become the go-to language for data science due to its extensive libraries and frameworks, such as Pandas, NumPy, and Matplotlib.R: Primarily used for statistical analysis and visualization, R is favored by statisticians and data miners.SQL: Structured Query Language (SQL) is essential for data manipulation and retrieval from relational databases.Julia: Gaining popularity for its speed and efficiency in numerical analysis and computational science.\"",
      "metadata": {
        "trusted": true
      },
      "outputs": [
        {
          "execution_count": 18,
          "output_type": "execute_result",
          "data": {
            "text/plain": "'Data science relies on several programming languages, each offering unique capabilities:Python: Known for its simplicity and versatility, Python has become the go-to language for data science due to its extensive libraries and frameworks, such as Pandas, NumPy, and Matplotlib.R: Primarily used for statistical analysis and visualization, R is favored by statisticians and data miners.SQL: Structured Query Language (SQL) is essential for data manipulation and retrieval from relational databases.Julia: Gaining popularity for its speed and efficiency in numerical analysis and computational science.'"
          },
          "metadata": {}
        }
      ],
      "execution_count": 18
    },
    {
      "cell_type": "markdown",
      "source": "Data Science libraries",
      "metadata": {}
    },
    {
      "cell_type": "code",
      "source": "\"The power of data science is greatly enhanced by a variety of libraries available in different languages:- **Pandas**: A Python library that provides data structures and functions needed to manipulate structured data.- **NumPy**: Enables support for large, multi-dimensional arrays and matrices, along with a collection of mathematical functions to operate on them.- **Matplotlib**: A plotting library for Python that produces publication-quality figures in a variety of formats.- **Scikit-learn**: A machine learning library for Python that provides simple and efficient tools for data mining and data analysis.\"\n",
      "metadata": {
        "trusted": true
      },
      "outputs": [
        {
          "execution_count": 21,
          "output_type": "execute_result",
          "data": {
            "text/plain": "'The power of data science is greatly enhanced by a variety of libraries available in different languages:- **Pandas**: A Python library that provides data structures and functions needed to manipulate structured data.- **NumPy**: Enables support for large, multi-dimensional arrays and matrices, along with a collection of mathematical functions to operate on them.- **Matplotlib**: A plotting library for Python that produces publication-quality figures in a variety of formats.- **Scikit-learn**: A machine learning library for Python that provides simple and efficient tools for data mining and data analysis.'"
          },
          "metadata": {}
        }
      ],
      "execution_count": 21
    },
    {
      "cell_type": "markdown",
      "source": "Data Science tools",
      "metadata": {}
    },
    {
      "cell_type": "code",
      "source": "\"In addition to programming languages and libraries, several tools facilitate the data science workflow:Jupyter Notebook: An interactive environment for running code, visualizing data, and documenting the data science process.Anaconda: A distribution of Python and R for scientific computing and data science, which includes Jupyter and various libraries.RStudio: An integrated development environment (IDE) for R, providing tools to help users write code and visualize data.Apache Spark: A unified analytics engine for big data processing, with built-in modules for streaming, SQL, machine learning, and graph processing.\"",
      "metadata": {
        "trusted": true
      },
      "outputs": [
        {
          "execution_count": 22,
          "output_type": "execute_result",
          "data": {
            "text/plain": "'In addition to programming languages and libraries, several tools facilitate the data science workflow:Jupyter Notebook: An interactive environment for running code, visualizing data, and documenting the data science process.Anaconda: A distribution of Python and R for scientific computing and data science, which includes Jupyter and various libraries.RStudio: An integrated development environment (IDE) for R, providing tools to help users write code and visualize data.Apache Spark: A unified analytics engine for big data processing, with built-in modules for streaming, SQL, machine learning, and graph processing.'"
          },
          "metadata": {}
        }
      ],
      "execution_count": 22
    },
    {
      "cell_type": "markdown",
      "source": "Arithmetics examples",
      "metadata": {}
    },
    {
      "cell_type": "code",
      "source": "suma = 3 + 2\nmultiplicacion = 4 * 5\nprint(\"Suma:\", suma)\nprint(\"Multiplicación:\", multiplicacion)",
      "metadata": {
        "trusted": true
      },
      "outputs": [
        {
          "name": "stdout",
          "text": "Suma: 5\nMultiplicación: 20\n",
          "output_type": "stream"
        }
      ],
      "execution_count": 11
    },
    {
      "cell_type": "code",
      "source": "minutos = 120\nhoras = minutos / 60\nprint(\"Horas:\", horas)",
      "metadata": {
        "trusted": true
      },
      "outputs": [
        {
          "name": "stdout",
          "text": "Horas: 2.0\n",
          "output_type": "stream"
        }
      ],
      "execution_count": 12
    },
    {
      "cell_type": "code",
      "source": "objetivos = [\"Aprender Python\", \"Dominar Jupyter\", \"Entender Ciencia de Datos\"]\nfor objetivo in objetivos:\n    print(objetivo)",
      "metadata": {
        "trusted": true
      },
      "outputs": [
        {
          "name": "stdout",
          "text": "Aprender Python\nDominar Jupyter\nEntender Ciencia de Datos\n",
          "output_type": "stream"
        }
      ],
      "execution_count": 13
    },
    {
      "cell_type": "markdown",
      "source": "Author: Bernardo Palma",
      "metadata": {}
    },
    {
      "cell_type": "code",
      "source": "",
      "metadata": {
        "trusted": true
      },
      "outputs": [],
      "execution_count": null
    },
    {
      "cell_type": "code",
      "source": "",
      "metadata": {
        "trusted": true
      },
      "outputs": [],
      "execution_count": null
    }
  ]
}
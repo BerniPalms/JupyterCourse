{
  "metadata": {
    "kernelspec": {
      "name": "python",
      "display_name": "Python (Pyodide)",
      "language": "python"
    },
    "language_info": {
      "codemirror_mode": {
        "name": "python",
        "version": 3
      },
      "file_extension": ".py",
      "mimetype": "text/x-python",
      "name": "python",
      "nbconvert_exporter": "python",
      "pygments_lexer": "ipython3",
      "version": "3.8"
    }
  },
  "nbformat_minor": 4,
  "nbformat": 4,
  "cells": [
    {
      "cell_type": "markdown",
      "source": "# Title: Jupyter",
      "metadata": {}
    },
    {
      "cell_type": "markdown",
      "source": "Introduction: Jupyter Notebook is an open-source web application that allows users to create and share documents containing live code, equations, visualizations, and narrative text. It has become a popular tool among data scientists, researchers, and educators due to its ability to facilitate interactive computing and enhance the learning experience. Jupyter supports various programming languages, most notably Python, which is widely used in data analysis, machine learning, and scientific computing.",
      "metadata": {}
    },
    {
      "cell_type": "markdown",
      "source": "Data Science languages Data science relies on several programming languages, each offering unique capabilities:Python: Known for its simplicity and versatility, Python has become the go-to language for data science due to its extensive libraries and frameworks, such as Pandas, NumPy, and Matplotlib.R: Primarily used for statistical analysis and visualization, R is favored by statisticians and data miners.SQL: Structured Query Language (SQL) is essential for data manipulation and retrieval from relational databases.Julia: Gaining popularity for its speed and efficiency in numerical analysis and computational science.",
      "metadata": {}
    },
    {
      "cell_type": "markdown",
      "source": "Data Science libraries The power of data science is greatly enhanced by a variety of libraries available in different languages:- **Pandas**: A Python library that provides data structures and functions needed to manipulate structured data.- **NumPy**: Enables support for large, multi-dimensional arrays and matrices, along with a collection of mathematical functions to operate on them.- **Matplotlib**: A plotting library for Python that produces publication-quality figures in a variety of formats.- **Scikit-learn**: A machine learning library for Python that provides simple and efficient tools for data mining and data analysis.",
      "metadata": {}
    },
    {
      "cell_type": "markdown",
      "source": "Data Science tools In addition to programming languages and libraries, several tools facilitate the data science workflow:Jupyter Notebook: An interactive environment for running code, visualizing data, and documenting the data science process.Anaconda: A distribution of Python and R for scientific computing and data science, which includes Jupyter and various libraries.RStudio: An integrated development environment (IDE) for R, providing tools to help users write code and visualize data.Apache Spark: A unified analytics engine for big data processing, with built-in modules for streaming, SQL, machine learning, and graph processing.",
      "metadata": {}
    },
    {
      "cell_type": "markdown",
      "source": "Arithmetics examples",
      "metadata": {}
    },
    {
      "cell_type": "code",
      "source": "##Comments\nsuma = 3 + 2\nmultiplicacion = 4 * 5\nprint(\"Suma:\", suma)\nprint(\"Multiplicación:\", multiplicacion)",
      "metadata": {
        "trusted": true
      },
      "outputs": [
        {
          "name": "stdout",
          "text": "Suma: 5\nMultiplicación: 20\n",
          "output_type": "stream"
        }
      ],
      "execution_count": 24
    },
    {
      "cell_type": "code",
      "source": "##Comments\nminutos = 120\nhoras = minutos / 60\nprint(\"Horas:\", horas)",
      "metadata": {
        "trusted": true
      },
      "outputs": [
        {
          "name": "stdout",
          "text": "Horas: 2.0\n",
          "output_type": "stream"
        }
      ],
      "execution_count": 25
    },
    {
      "cell_type": "code",
      "source": "##Comments\nobjetivos = [\"Aprender Python\", \"Dominar Jupyter\", \"Entender Ciencia de Datos\"]\nfor objetivo in objetivos:\n    print(objetivo)",
      "metadata": {
        "trusted": true
      },
      "outputs": [
        {
          "name": "stdout",
          "text": "Aprender Python\nDominar Jupyter\nEntender Ciencia de Datos\n",
          "output_type": "stream"
        }
      ],
      "execution_count": 26
    },
    {
      "cell_type": "markdown",
      "source": "# Author",
      "metadata": {}
    },
    {
      "cell_type": "markdown",
      "source": "Bernardo Palma",
      "metadata": {}
    },
    {
      "cell_type": "code",
      "source": "",
      "metadata": {
        "trusted": true
      },
      "outputs": [],
      "execution_count": null
    },
    {
      "cell_type": "code",
      "source": "",
      "metadata": {
        "trusted": true
      },
      "outputs": [],
      "execution_count": null
    }
  ]
}